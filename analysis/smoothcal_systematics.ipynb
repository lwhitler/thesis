{
 "cells": [
  {
   "cell_type": "markdown",
   "metadata": {},
   "source": [
    "## Investigating smoothed calibration solutions\n",
    "\n",
    "* SNR = std$\\left[\\frac{1}{\\frac{\\mathrm{unsmoothed}}{\\mathrm{smoothed}} - 1}\\right]$"
   ]
  },
  {
   "cell_type": "code",
   "execution_count": null,
   "metadata": {},
   "outputs": [],
   "source": [
    "%matplotlib notebook\n",
    "import numpy as np\n",
    "import matplotlib.pyplot as plt\n",
    "from scipy import stats\n",
    "from astropy.time import Time\n",
    "from pyuvdata import UVCal\n",
    "import hera_cal\n",
    "import hera_pspec as hp"
   ]
  },
  {
   "cell_type": "code",
   "execution_count": null,
   "metadata": {},
   "outputs": [],
   "source": [
    "def freq_to_chan(freqs):\n",
    "    freq_per_chan = 100. / 1024.\n",
    "    chans = [(freq-100.) / freq_per_chan for freq in freqs]\n",
    "    return chans"
   ]
  },
  {
   "cell_type": "code",
   "execution_count": null,
   "metadata": {},
   "outputs": [],
   "source": [
    "JD_dec = '49088'\n",
    "base_name = 'zen.2458106.' + JD_dec + '.xx.HH.uv'\n",
    "abscal_file = '/data6/HERA/data/IDR2.1/2458106/' + base_name + '.abs.calfits'\n",
    "smoothcal_file = '/data6/HERA/data/IDR2.1/2458106/' + base_name + '.smooth_abs.calfits'\n",
    "im_freq_prefix = '/home/lwhitler/data/images/cal/noise/freq/' + base_name.replace('.uv', '')\n",
    "im_time_prefix = '/home/lwhitler/data/images/cal/noise/time/' + base_name.replace('.uv', '')"
   ]
  },
  {
   "cell_type": "code",
   "execution_count": null,
   "metadata": {},
   "outputs": [],
   "source": [
    "uvc_abs, uvc_smooth = UVCal(), UVCal()\n",
    "uvc_abs.read_calfits(abscal_file)\n",
    "uvc_smooth.read_calfits(smoothcal_file)"
   ]
  },
  {
   "cell_type": "code",
   "execution_count": null,
   "metadata": {},
   "outputs": [],
   "source": [
    "ants = uvc_smooth.ant_array\n",
    "flags = uvc_smooth.flag_array\n",
    "cal_diff = (uvc_abs.gain_array/uvc_smooth.gain_array) - 1\n",
    "cal_diff = np.ma.masked_array(cal_diff, flags)"
   ]
  },
  {
   "cell_type": "markdown",
   "metadata": {},
   "source": [
    "#### Slice in frequency\n",
    "\n",
    "Notes to self:\n",
    "* Look at the skew and kurtosis -- there should be a `scipy` function for this, but needs to be for masked arrays to be safe"
   ]
  },
  {
   "cell_type": "code",
   "execution_count": null,
   "metadata": {
    "scrolled": false
   },
   "outputs": [],
   "source": [
    "plt.ioff()\n",
    "for ant in ants[0:1]:\n",
    "    print('Now doing antenna {0}.'.format(ant))\n",
    "    ant_idx = np.where(uvc_abs.ant_array == ant)[0][0]\n",
    "    for i in range(10):\n",
    "        freqs = [100+10*i, 110+10*i]\n",
    "        spw = np.floor(freq_to_chan(freqs)).astype(int)\n",
    "        noise = cal_diff[ant_idx, 0, spw[0]:spw[1], :, 0]\n",
    "        N = noise.count()\n",
    "        \n",
    "        if N > 0:\n",
    "            real = np.real(noise.flatten())\n",
    "            imag = np.imag(noise.flatten())\n",
    "            mean_r, mean_i = real.mean(), imag.mean()\n",
    "            quantiles_r, fit_r = stats.probplot(real, dist='norm')\n",
    "            quantiles_i, fit_i = stats.probplot(imag, dist='norm')\n",
    "            xfit_r = np.linspace(np.min(quantiles_r[0])-0.5, np.max(quantiles_r[0])+0.5)\n",
    "            xfit_i = np.linspace(np.min(quantiles_i[0])-0.5, np.max(quantiles_i[0])+0.5)\n",
    "            \n",
    "            # Plot the data and the mean\n",
    "            fig, ax = plt.subplots(1, 1, figsize=(8, 6))\n",
    "            ax.axvline(0, color='k', ls=':', lw=1.25)\n",
    "            ax.axvline(mean_r, color='#D11149', lw=1.25)\n",
    "            ax.axvline(mean_i, color='#0A2463', lw=1.25)\n",
    "            ax.hist(real, bins=100, alpha=0.4, color='#D11149', label='Real')\n",
    "            ax.hist(imag, bins=100, alpha=0.4, color='#0A2463', label='Imaginary')\n",
    "            \n",
    "            # Plot the QQ plot\n",
    "            ax_qq_r = fig.add_axes([0.675, 0.7, 0.25, 0.2])\n",
    "            ax_qq_i = fig.add_axes([0.675, 0.5, 0.25, 0.2], sharex=ax_qq_r)\n",
    "            ax_qq_r.plot(xfit_r, np.poly1d([fit_r[0], fit_r[1]])(xfit_r), color='k', lw=0.75)\n",
    "            ax_qq_r.scatter(quantiles_r[0], quantiles_r[1], marker='.', s=0.6, color='#D11149', alpha=0.5)\n",
    "            ax_qq_i.plot(xfit_i, np.poly1d([fit_i[0], fit_i[1]])(xfit_i), color='k', lw=0.75)\n",
    "            ax_qq_i.scatter(quantiles_i[0], quantiles_i[1], marker='.', s=0.6, color='#0A2463')\n",
    "            ax_qq_r.set_xlim([-4.15, 4.15])\n",
    "            ax_qq_i.set_xlim([-4.15, 4.15])\n",
    "            ax.text(0.804, 0.4, 'Theoretical Quantiles',\n",
    "                    horizontalalignment='center', transform=ax.transAxes)\n",
    "            ax.text(0.95, 0.72, 'Sample Quantiles', rotation=-90,\n",
    "                    verticalalignment='center', transform=ax.transAxes)\n",
    "            \n",
    "            if i == 0:\n",
    "                xlim = [-1.7, 1.7]\n",
    "                xticks = np.arange(-1.5, 1.6, 0.3)\n",
    "            else:\n",
    "                xlim = [-0.65, 0.65]\n",
    "                xticks = np.arange(-0.6, 0.7, 0.1)\n",
    "            ax.set_xlim(xlim)\n",
    "            ax.set_xticks(xticks)\n",
    "            ax.set_xlabel(r'$\\frac{\\mathrm{abscal}}{\\mathrm{smoothcal}} - 1$', fontsize=12)\n",
    "            ax.set_title('Antenna {0}, {1}-{2} MHz'.format(ant, str(freqs[0]), str(freqs[1])))\n",
    "            legend = ax.legend(loc='upper left', fontsize=10)\n",
    "            legend.set_title('N={0}'.format(N), prop={'size':10})\n",
    "            plt.tight_layout()\n",
    "            plt.savefig(im_freq_prefix + '.ant' + str(ant) + '.' + str(freqs[0]) + '-' +\n",
    "                        str(freqs[1]) + '.png', format='png')\n",
    "            plt.close()\n",
    "        else:\n",
    "            print('No unflagged data for antenna {0} from {1}-{2} MHz, skipping...'.format(ant, str(freqs[0]), str(freqs[1])))"
   ]
  },
  {
   "cell_type": "markdown",
   "metadata": {},
   "source": [
    "#### Slice in time"
   ]
  },
  {
   "cell_type": "code",
   "execution_count": null,
   "metadata": {
    "scrolled": false
   },
   "outputs": [],
   "source": [
    "plt.ioff()\n",
    "time_arr_parts = uvc_abs.time_array.reshape(-1, 6)\n",
    "for ant in ants:\n",
    "    print('Now doing antenna {0}.'.format(ant))\n",
    "    ant_idx = np.where(uvc_abs.ant_array == ant)[0][0]\n",
    "    for time_arr in time_arr_parts:\n",
    "        t1 = Time(time_arr[0], format='jd')\n",
    "        t2 = Time(time_arr[-1], format='jd')\n",
    "        date = t1.iso.split(' ')[0]\n",
    "        t1_str = t1.iso.split(' ')[1]\n",
    "        t2_str = t2.iso.split(' ')[1]\n",
    "\n",
    "        t1_idx = np.where(uvc_abs.time_array == time_arr[0])[0][0]\n",
    "        t2_idx = np.where(uvc_abs.time_array == time_arr[-1])[0][0]\n",
    "        noise = cal_diff[ant_idx, 0, :, t1_idx:t2_idx, 0]\n",
    "        N = noise.count()\n",
    "        \n",
    "        if N > 0:\n",
    "            real = np.real(noise.flatten())\n",
    "            imag = np.imag(noise.flatten())\n",
    "            mean_r, mean_i = real.mean(), imag.mean()\n",
    "            quantiles_r, fit_r = stats.probplot(real, dist='norm')\n",
    "            quantiles_i, fit_i = stats.probplot(imag, dist='norm')\n",
    "            xfit_r = np.linspace(np.min(quantiles_r[0])-0.5, np.max(quantiles_r[0])+0.5)\n",
    "            xfit_i = np.linspace(np.min(quantiles_i[0])-0.5, np.max(quantiles_i[0])+0.5)\n",
    "            \n",
    "            # Plot the data and the mean\n",
    "            fig, ax = plt.subplots(1, 1, figsize=(8, 6))\n",
    "            ax.axvline(0, color='k', ls=':', lw=1.25)\n",
    "            ax.axvline(mean_r, color='#D11149', lw=1.25)\n",
    "            ax.axvline(mean_i, color='#0A2463', lw=1.25)\n",
    "            ax.hist(real, bins=100, alpha=0.4, color='#D11149', label='Real')\n",
    "            ax.hist(imag, bins=100, alpha=0.4, color='#0A2463', label='Imaginary')\n",
    "            \n",
    "            # Plot the QQ plot\n",
    "            ax_qq_r = fig.add_axes([0.675, 0.7, 0.25, 0.2])\n",
    "            ax_qq_i = fig.add_axes([0.675, 0.5, 0.25, 0.2], sharex=ax_qq_r)\n",
    "            ax_qq_r.plot(xfit_r, np.poly1d([fit_r[0], fit_r[1]])(xfit_r), color='k', lw=0.75)\n",
    "            ax_qq_r.scatter(quantiles_r[0], quantiles_r[1], marker='.', s=0.6, color='#D11149', alpha=0.5)\n",
    "            ax_qq_i.plot(xfit_i, np.poly1d([fit_i[0], fit_i[1]])(xfit_i), color='k', lw=0.75)\n",
    "            ax_qq_i.scatter(quantiles_i[0], quantiles_i[1], marker='.', s=0.6, color='#0A2463')\n",
    "            ax_qq_r.set_xlim([-4.15, 4.15])\n",
    "            ax_qq_i.set_xlim([-4.15, 4.15])\n",
    "            ax.text(0.804, 0.4, 'Theoretical Quantiles',\n",
    "                    horizontalalignment='center', transform=ax.transAxes)\n",
    "            ax.text(0.95, 0.72, 'Sample Quantiles', rotation=-90,\n",
    "                    verticalalignment='center', transform=ax.transAxes)\n",
    "            \n",
    "            ax.set_xlim([-1.1, 1.1])\n",
    "            ax.set_xticks(np.arange(-1, 1.1, 0.2))\n",
    "            ax.set_xlabel(r'$\\frac{\\mathrm{abscal}}{\\mathrm{smoothcal}} - 1$', fontsize=12)\n",
    "            ax.set_title('Antenna {0}, {1}, {2} to {3}'.format(ant, date, t1_str, t2_str))\n",
    "            legend = ax.legend(loc='upper left', fontsize=10)\n",
    "            legend.set_title('N={0}'.format(N), prop={'size':10})\n",
    "            plt.tight_layout()\n",
    "            plt.savefig(im_time_prefix.replace(JD_dec, '{0:.5f}'.format(t1.jd % 1).replace('0.','')) +\n",
    "                        '.ant' + str(ant) + '.png', format='png')\n",
    "            plt.close()\n",
    "        else:\n",
    "            print('No unflagged data for antenna {0} from {1}-{2}, skipping...'.format(ant, t1_str, t2_str))"
   ]
  }
 ],
 "metadata": {
  "kernelspec": {
   "display_name": "Python 2",
   "language": "python",
   "name": "python2"
  },
  "language_info": {
   "codemirror_mode": {
    "name": "ipython",
    "version": 2
   },
   "file_extension": ".py",
   "mimetype": "text/x-python",
   "name": "python",
   "nbconvert_exporter": "python",
   "pygments_lexer": "ipython2",
   "version": "2.7.15"
  }
 },
 "nbformat": 4,
 "nbformat_minor": 2
}
