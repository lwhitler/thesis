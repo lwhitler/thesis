{
 "cells": [
  {
   "cell_type": "markdown",
   "metadata": {},
   "source": [
    "## Making diagnostic plots\n",
    "\n",
    "For comparison of power spectra after changing flag broadcasting."
   ]
  },
  {
   "cell_type": "code",
   "execution_count": null,
   "metadata": {},
   "outputs": [],
   "source": [
    "%matplotlib notebook\n",
    "import numpy as np\n",
    "import matplotlib.pyplot as plt\n",
    "import copy\n",
    "import hera_pspec as hp\n",
    "from pyuvdata import UVData\n",
    "from hera_qm.metrics_io import process_ex_ants\n",
    "import utils"
   ]
  },
  {
   "cell_type": "code",
   "execution_count": null,
   "metadata": {},
   "outputs": [],
   "source": [
    "# Paths\n",
    "JD_dec = '49088'\n",
    "time_thresh_str = '0.025' # For flag broadcasting\n",
    "base_name = 'zen.2458106.' + JD_dec + '.xx.HH'\n",
    "beam_file = '/home/lwhitler/data/dfiles/HERA_NF_dipole_power.beamfits'\n",
    "data_file = '/data6/HERA/data/IDR2.1/2458106/' + base_name + '.uvOCRS'\n",
    "ant_metrics = '/data6/HERA/data/IDR2.1/2458106/' + base_name.replace('.xx','') + '.uv.ant_metrics.json'\n",
    "uvp_prefix = '/home/lwhitler/data/dfiles/pspecs/broadcasting/tt' + time_thresh_str + '/' + base_name + ''\n",
    "im_prefix = 'plots/' + base_name"
   ]
  },
  {
   "cell_type": "code",
   "execution_count": null,
   "metadata": {},
   "outputs": [],
   "source": [
    "# Models and data\n",
    "cosmo = hp.conversions.Cosmo_Conversions()\n",
    "beam = hp.pspecbeam.PSpecBeamUV(beam_file, cosmo=cosmo)\n",
    "uvd_load = UVData()\n",
    "uvd_load.read(data_file, file_type='miriad')"
   ]
  },
  {
   "cell_type": "code",
   "execution_count": null,
   "metadata": {},
   "outputs": [],
   "source": [
    "# Convert from Jy to mK\n",
    "uvd_orig, uvd = copy.deepcopy(uvd_load), copy.deepcopy(uvd_load)\n",
    "utils.aux.convert_Jy_to_mK(uvd_orig, beam)\n",
    "utils.aux.convert_Jy_to_mK(uvd, beam)"
   ]
  },
  {
   "cell_type": "markdown",
   "metadata": {},
   "source": [
    "#### Choose data to make the power spectra"
   ]
  },
  {
   "cell_type": "code",
   "execution_count": null,
   "metadata": {},
   "outputs": [],
   "source": [
    "# Select the baseline pairs without bad antennas\n",
    "reds = hp.utils.get_reds(uvd)[0]\n",
    "bls = reds[2]  # 14-m EW baselines\n",
    "bl_str = 'EW_14m'  # For saving files\n",
    "\n",
    "xants = process_ex_ants(metrics_file=ant_metrics)  # Bad antennas\n",
    "good_bls = utils.aux.find_good_bls(bls, xants)\n",
    "blps = hp.utils.construct_blpairs(good_bls, exclude_auto_bls=True, exclude_permutations=True)\n",
    "bls1, bls2 = blps[0], blps[1]\n",
    "\n",
    "# Select the spectral window\n",
    "spw = [(512, 640)]\n",
    "spw_str = str(spw[0][0]) + '-' + str(spw[0][1])  # For saving files\n",
    "\n",
    "# Time threshold for broadcasting flags\n",
    "time_thresh = float(time_thresh_str)"
   ]
  },
  {
   "cell_type": "markdown",
   "metadata": {},
   "source": [
    "#### Make/load the power spectra\n",
    "\n",
    "Default flag broadcasting has a time threshold of 0.2."
   ]
  },
  {
   "cell_type": "code",
   "execution_count": null,
   "metadata": {},
   "outputs": [],
   "source": [
    "uvp_orig_file = uvp_prefix.replace(time_thresh_str, '0.2') + '.ps.' + spw_str + '.' + bl_str + '.' + uvd_orig.vis_units + '.h5'\n",
    "uvp_file = uvp_prefix + '.ps.' + spw_str + '.' + bl_str + '.' + uvd.vis_units + '.h5'\n",
    "ds_orig, uvp_orig = utils.aux.get_uvpspec(uvd_orig, beam, bls1, bls2, spw, uvp_orig_file, time_thresh=0.2)\n",
    "ds, uvp = utils.aux.get_uvpspec(uvd, beam, bls1, bls2, spw, uvp_file, time_thresh=time_thresh)"
   ]
  },
  {
   "cell_type": "code",
   "execution_count": null,
   "metadata": {},
   "outputs": [],
   "source": [
    "# Take the time average of the spectra\n",
    "uvp_avg_orig = uvp_orig.average_spectra(time_avg=True, inplace=False)\n",
    "uvp_avg = uvp.average_spectra(time_avg=True, inplace=False)\n",
    "# Save the baseline pairs\n",
    "blpairs = list(np.unique(uvp_avg.blpair_array))\n",
    "kparas = uvp_avg.get_kparas(0)"
   ]
  },
  {
   "cell_type": "code",
   "execution_count": null,
   "metadata": {},
   "outputs": [],
   "source": [
    "# Remove zero data and corresponding baselines\n",
    "zero_wgt = np.all(uvp_avg.wgt_array[0][:, :, 0] == 0, axis=1)\n",
    "zero_wgt_mask = np.broadcast_to(zero_wgt, uvp_avg.data_array[0][:, :, 0].shape)\n",
    "zero_wgt_mask = zero_wgt_mask[:, :, np.newaxis]\n",
    "nonzero_blpairs = uvp_avg.blpair_array[~zero_wgt[:, 0]]\n",
    "uvp_avg_orig.data_array[0] = np.ma.masked_array(uvp_avg_orig.data_array[0], zero_wgt_mask)\n",
    "uvp_avg.data_array[0] = np.ma.masked_array(uvp_avg.data_array[0], zero_wgt_mask)"
   ]
  },
  {
   "cell_type": "code",
   "execution_count": null,
   "metadata": {},
   "outputs": [],
   "source": [
    "# Calculate the median, bootstrapped errors, and the difference\n",
    "niters = 1000\n",
    "med_orig = utils.aux.calc_median(uvp_avg_orig, blpairs=nonzero_blpairs)\n",
    "med = utils.aux.calc_median(uvp_avg, blpairs=nonzero_blpairs)\n",
    "med_err_orig = utils.aux.bootstrap_median(uvp_avg_orig, blpairs=nonzero_blpairs, niters=niters)\n",
    "med_err = utils.aux.bootstrap_median(uvp_avg, blpairs=nonzero_blpairs, niters=niters)\n",
    "med_diff, med_diff_err = utils.aux.subtract_medians(med_orig, med, med_err_orig, med_err)"
   ]
  },
  {
   "cell_type": "markdown",
   "metadata": {},
   "source": [
    "#### Plot the flags and the power spectra"
   ]
  },
  {
   "cell_type": "code",
   "execution_count": null,
   "metadata": {},
   "outputs": [],
   "source": [
    "fig1, ax1 = plt.subplots(2, 2, sharey='row', figsize=(12, 8))\n",
    "utils.plot.plot_flags(uvd_load, spw[0], good_bls, ax1[0, 0], xtick_space=1, legend_fontsize=8, vmin=0, vmax=1)\n",
    "utils.plot.plot_flag_comparison(ds_orig.dsets[0], ds.dsets[0], spw[0], good_bls, ax1[0, 1],\n",
    "                                tt1=0.2, tt2=time_thresh, xtick_space=1, legend_fontsize=8, vmin=0, vmax=3)\n",
    "utils.plot.plot_median_spectra(kparas, med_orig, med_err_orig, ax1[1, 0],\n",
    "                               vis_units=uvd_orig.vis_units, color='#0700FF',\n",
    "                               label='Time threshold: 0.2')\n",
    "utils.plot.plot_median_spectra(kparas, med, med_err, ax1[1, 0], vis_units=uvd.vis_units,\n",
    "                               color='#8600FF', label='Time threshold: {0}'.format(time_thresh_str))\n",
    "utils.plot.plot_median_spectra(kparas, med_diff, med_diff_err, ax1[1, 1], vis_units=uvd.vis_units, color='#000000')\n",
    "\n",
    "ax1[0, 1].yaxis.set_tick_params(labelleft=True)\n",
    "ax1[1, 1].yaxis.set_tick_params(labelleft=True)\n",
    "ax1[0, 0].set_title('Original flags', fontsize=14)\n",
    "ax1[0, 1].set_title('Flag broadcasting comparison', fontsize=14)\n",
    "linthreshy = np.max(med)*1e-5\n",
    "linthreshy = 10**np.floor(np.log10(linthreshy))\n",
    "ax1[1, 0].set_yscale('symlog', linthreshy=linthreshy)\n",
    "ax1[1, 1].set_yscale('symlog', linthreshy=linthreshy)\n",
    "ax1[1, 0].set_title('Power spectrum comparison', fontsize=14)\n",
    "ax1[1, 1].set_title('Difference of medians', fontsize=14)\n",
    "ax1[1, 0].legend(loc='best')\n",
    "plt.tight_layout()\n",
    "plt.savefig(im_prefix + '.' + spw_str + '.tt' + time_thresh_str + '.png', format='png')"
   ]
  }
 ],
 "metadata": {
  "kernelspec": {
   "display_name": "Python 2",
   "language": "python",
   "name": "python2"
  },
  "language_info": {
   "codemirror_mode": {
    "name": "ipython",
    "version": 2
   },
   "file_extension": ".py",
   "mimetype": "text/x-python",
   "name": "python",
   "nbconvert_exporter": "python",
   "pygments_lexer": "ipython2",
   "version": "2.7.15"
  }
 },
 "nbformat": 4,
 "nbformat_minor": 2
}
