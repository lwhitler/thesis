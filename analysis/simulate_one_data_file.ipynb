{
 "cells": [
  {
   "cell_type": "markdown",
   "metadata": {},
   "source": [
    "## Putting `hera_sim` data into a `UVData` object"
   ]
  },
  {
   "cell_type": "code",
   "execution_count": null,
   "metadata": {},
   "outputs": [],
   "source": [
    "%matplotlib notebook\n",
    "import numpy as np\n",
    "import matplotlib.pyplot as plt\n",
    "import cmocean\n",
    "import copy\n",
    "from scipy import constants\n",
    "from pyuvdata import UVData\n",
    "from pyuvdata import utils as uvutils\n",
    "from hera_sim import foregrounds, noise, rfi, sigchain"
   ]
  },
  {
   "cell_type": "code",
   "execution_count": null,
   "metadata": {},
   "outputs": [],
   "source": [
    "def make_amp_phase_plot(data, fig, ax, log_amp=True, amp_vmin=0.5, amp_vmax=3):\n",
    "    if log_amp:\n",
    "        cax0 = ax[0].imshow(np.log10(np.abs(data)), vmin=amp_vmin, vmax=amp_vmax, aspect='auto')\n",
    "        title = 'log(Amplitude)'\n",
    "    else:\n",
    "        cax0 = ax[0].imshow(np.abs(data), vmin=amp_vmin, vmax=amp_vmax, aspect='auto')\n",
    "        title = 'Amplitude'\n",
    "    cax1 = ax[1].imshow(np.angle(data), cmap='cmo.phase', vmin=-np.pi, vmax=np.pi, aspect='auto')\n",
    "    ax[0].set_title(title)\n",
    "    ax[1].set_title('Phase')\n",
    "    fig.colorbar(cax0, ax=ax[0])\n",
    "    fig.colorbar(cax1, ax=ax[1])\n",
    "    \n",
    "def bl_len_in_ns(uvw_arr):\n",
    "    bl_len_ns = (np.linalg.norm(uvw_arr) / constants.c) * 1e9\n",
    "    return bl_len_ns"
   ]
  },
  {
   "cell_type": "code",
   "execution_count": null,
   "metadata": {},
   "outputs": [],
   "source": [
    "# Paths\n",
    "JD_dec = '40141'\n",
    "base_name = 'zen.2458106.' + JD_dec + '.xx.HH.uv'\n",
    "data_in = '/data6/HERA/data/IDR2.1/2458106/' + base_name\n",
    "sim_out = '/home/lwhitler/data/dfiles/sim/' + base_name.replace('.uv', '') + '.sim.uv'"
   ]
  },
  {
   "cell_type": "code",
   "execution_count": null,
   "metadata": {},
   "outputs": [],
   "source": [
    "# Data\n",
    "uvd_load = UVData()\n",
    "uvd_load.read(data_in, file_type='miriad')"
   ]
  },
  {
   "cell_type": "code",
   "execution_count": null,
   "metadata": {},
   "outputs": [],
   "source": [
    "uvd = copy.deepcopy(uvd_load)\n",
    "fig, ax = plt.subplots(1, 1, figsize=(6, 4))\n",
    "cax = ax.imshow(np.abs(uvd.data_array[:, 0, :, 0]), aspect='auto', vmin=0, vmax=0.15)\n",
    "fig.colorbar(cax, ax=ax)\n",
    "plt.tight_layout()"
   ]
  },
  {
   "cell_type": "code",
   "execution_count": null,
   "metadata": {},
   "outputs": [],
   "source": [
    "# Existing frequencies and LSTs from the UVData object\n",
    "freqs = np.unique(uvd.freq_array) / 1e9  # In GHz for hera_sim\n",
    "lsts = np.unique(uvd.lst_array)"
   ]
  },
  {
   "cell_type": "markdown",
   "metadata": {},
   "source": [
    "#### Antenna-dependent things (antenna gains)"
   ]
  },
  {
   "cell_type": "code",
   "execution_count": null,
   "metadata": {},
   "outputs": [],
   "source": [
    "ants = list(set(uvd.ant_1_array).union(set(uvd.ant_2_array)))"
   ]
  },
  {
   "cell_type": "code",
   "execution_count": null,
   "metadata": {},
   "outputs": [],
   "source": [
    "# Antenna gains\n",
    "gains = sigchain.gen_gains(freqs, ants)"
   ]
  },
  {
   "cell_type": "markdown",
   "metadata": {},
   "source": [
    "#### Non-baseline dependent things (RFI and noise)"
   ]
  },
  {
   "cell_type": "code",
   "execution_count": null,
   "metadata": {},
   "outputs": [],
   "source": [
    "Tsky_model = noise.HERA_Tsky_mdl['xx']\n",
    "\n",
    "# Noise\n",
    "Tsky = noise.resample_Tsky(freqs, lsts, Tsky_mdl=Tsky_model)\n",
    "Trx = 150.  # ...Receiver temperature?\n",
    "noise_jy = noise.sky_noise_jy(Tsky + Trx, freqs, lsts)"
   ]
  },
  {
   "cell_type": "code",
   "execution_count": null,
   "metadata": {},
   "outputs": [],
   "source": [
    "fig, ax = plt.subplots(2, 1, figsize=(7, 5))\n",
    "make_amp_phase_plot(noise_jy, fig, ax, amp_vmin=0.5, amp_vmax=2)\n",
    "plt.tight_layout()"
   ]
  },
  {
   "cell_type": "code",
   "execution_count": null,
   "metadata": {},
   "outputs": [],
   "source": [
    "# RFI\n",
    "rfi_narrow = rfi.rfi_stations(freqs, lsts)\n",
    "rfi_broad = rfi.rfi_impulse(freqs, lsts, chance=0.025)\n",
    "rfi_scatter = rfi.rfi_scatter(freqs, lsts, chance=0.001)\n",
    "rfi_all = rfi_narrow + rfi_broad + rfi_scatter"
   ]
  },
  {
   "cell_type": "code",
   "execution_count": null,
   "metadata": {},
   "outputs": [],
   "source": [
    "fig, ax = plt.subplots(2, 1, figsize=(7, 5))\n",
    "make_amp_phase_plot(rfi_all, fig, ax)\n",
    "plt.tight_layout()"
   ]
  },
  {
   "cell_type": "code",
   "execution_count": null,
   "metadata": {},
   "outputs": [],
   "source": [
    "# Noise and RFI\n",
    "noise_rfi = rfi_all + noise_jy"
   ]
  },
  {
   "cell_type": "code",
   "execution_count": null,
   "metadata": {},
   "outputs": [],
   "source": [
    "fig, ax = plt.subplots(2, 1, figsize=(7, 5))\n",
    "make_amp_phase_plot(noise_rfi, fig, ax, amp_vmin=0.5, amp_vmax=2)\n",
    "plt.tight_layout()"
   ]
  },
  {
   "cell_type": "markdown",
   "metadata": {},
   "source": [
    "#### Baseline-dependent things (foregrounds)"
   ]
  },
  {
   "cell_type": "code",
   "execution_count": null,
   "metadata": {},
   "outputs": [],
   "source": [
    "unique_bls, bl_inds = np.unique(uvd.baseline_array, return_index=True)\n",
    "bl_len_ns = bl_len_in_ns(uvd.uvw_array[bl_inds])"
   ]
  },
  {
   "cell_type": "code",
   "execution_count": null,
   "metadata": {},
   "outputs": [],
   "source": [
    "# Find redundant baseline groups from unique baselines\n",
    "reds, bin_ctrs, lens, conj_bl_nums = uvutils.get_baseline_redundancies(unique_bls, uvd.uvw_array[bl_inds],\n",
    "                                                                       tol=0.5, with_conjugates=True)\n",
    "# Throw out autos\n",
    "auto_ind = np.where(lens == 0)\n",
    "del reds[auto_ind[0][0]]\n",
    "bin_ctrs = np.delete(bin_ctrs, auto_ind)\n",
    "lens = np.delete(lens, auto_ind)"
   ]
  },
  {
   "cell_type": "code",
   "execution_count": null,
   "metadata": {},
   "outputs": [],
   "source": [
    "# Baseline lengths in ns for each redundant group\n",
    "bl_lens_ns = [bl_len_in_ns(length) for length in lens]"
   ]
  },
  {
   "cell_type": "code",
   "execution_count": null,
   "metadata": {},
   "outputs": [],
   "source": [
    "# Start with diffuse foregrounds for each redundant group\n",
    "fgs = {}\n",
    "for i, len_ns in enumerate(bl_lens_ns):\n",
    "    diffuse = foregrounds.diffuse_foreground(Tsky_model, lsts, freqs, len_ns)\n",
    "    pt_src = foregrounds.pntsrc_foreground(lsts, freqs, len_ns, nsrcs=200)\n",
    "    fgs[i] = diffuse + pt_src"
   ]
  },
  {
   "cell_type": "code",
   "execution_count": null,
   "metadata": {},
   "outputs": [],
   "source": [
    "fig, ax = plt.subplots(2, 1, figsize=(7, 5))\n",
    "make_amp_phase_plot(fgs[0], fig, ax)\n",
    "plt.tight_layout()"
   ]
  },
  {
   "cell_type": "markdown",
   "metadata": {},
   "source": [
    "#### Apply gains to simulated data and save it\n",
    "\n",
    "The autos seem to make `hera_sim` unhappy, so I set them to NaNs for now... there's hopefully a better solution, though."
   ]
  },
  {
   "cell_type": "code",
   "execution_count": null,
   "metadata": {},
   "outputs": [],
   "source": [
    "true_vis = {}\n",
    "for key in fgs.keys():\n",
    "    true_vis[key] = fgs[key] + noise_rfi"
   ]
  },
  {
   "cell_type": "code",
   "execution_count": null,
   "metadata": {},
   "outputs": [],
   "source": [
    "bl_dict = dict.fromkeys(np.unique(uvd.baseline_array))\n",
    "for red_group in reds:\n",
    "    red_ind = reds.index(red_group)\n",
    "    true_vis_red = true_vis[red_ind]\n",
    "    for bl_num in red_group:\n",
    "        if bl_num in conj_bl_nums:\n",
    "            true_vis_red = true_vis_red.conj()\n",
    "        bl_tuple = uvd.baseline_to_antnums(bl_num)\n",
    "        g_ij = gains[bl_tuple[0]] * gains[bl_tuple[1]].conj()\n",
    "        bl_vis = true_vis_red * g_ij\n",
    "        if bl_num in bl_dict.keys():\n",
    "            bl_dict[bl_num] = bl_vis\n",
    "        else:\n",
    "            print('Baseline number {0} is not in the baseline dictionary.'.format(bl_num))\n",
    "for bl_num in bl_dict.keys():\n",
    "    if bl_dict[bl_num] is None:\n",
    "        bl_dict[bl_num] = np.full((len(lsts), len(freqs)), np.nan + 1j*np.nan)\n",
    "        print('Setting baseline {0} to NaNs.'.format(uvd.baseline_to_antnums(bl_num)))"
   ]
  },
  {
   "cell_type": "code",
   "execution_count": null,
   "metadata": {},
   "outputs": [],
   "source": [
    "sim_data = np.zeros_like(uvd.data_array)\n",
    "for bl_num in bl_dict.keys():\n",
    "    ind_blt = np.where(uvd.baseline_array == bl_num)[0]\n",
    "    sim_data[ind_blt] = bl_dict[bl_num][:, None, :, None]"
   ]
  },
  {
   "cell_type": "code",
   "execution_count": null,
   "metadata": {},
   "outputs": [],
   "source": [
    "fig, ax = plt.subplots(1, 1, figsize=(6, 4))\n",
    "cax = ax.imshow(np.abs(sim_data[:, 0, :, 0]), aspect='auto', vmin=0, vmax=0.15)\n",
    "fig.colorbar(cax, ax=ax)\n",
    "plt.tight_layout()"
   ]
  },
  {
   "cell_type": "markdown",
   "metadata": {},
   "source": [
    "#### Save the simulated data to a miriad file"
   ]
  },
  {
   "cell_type": "code",
   "execution_count": null,
   "metadata": {},
   "outputs": [],
   "source": [
    "uvd_sim = copy.deepcopy(uvd_load)\n",
    "# Unflag everything just in case anything was flagged\n",
    "uvd_sim.flag_array = np.full_like(uvd.flag_array, False)\n",
    "uvd_sim.data_array = sim_data\n",
    "uvd_sim.write_miriad(sim_out)"
   ]
  }
 ],
 "metadata": {
  "kernelspec": {
   "display_name": "Python 2",
   "language": "python",
   "name": "python2"
  },
  "language_info": {
   "codemirror_mode": {
    "name": "ipython",
    "version": 2
   },
   "file_extension": ".py",
   "mimetype": "text/x-python",
   "name": "python",
   "nbconvert_exporter": "python",
   "pygments_lexer": "ipython2",
   "version": "2.7.15"
  }
 },
 "nbformat": 4,
 "nbformat_minor": 2
}
